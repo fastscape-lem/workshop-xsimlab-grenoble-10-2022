{
 "cells": [
  {
   "cell_type": "markdown",
   "id": "26e6db03-4c38-4cf5-9300-06ebb5b157ad",
   "metadata": {},
   "source": [
    "Let's now modify our \"main\" process to allow for the diffusivity (transport coefficient) to be a function of space"
   ]
  },
  {
   "cell_type": "code",
   "execution_count": null,
   "id": "6a78228e-d5ff-44a0-9cec-61cb479783a0",
   "metadata": {},
   "outputs": [],
   "source": [
    "import numpy as np\n",
    "import matplotlib.pyplot as plt"
   ]
  },
  {
   "cell_type": "code",
   "execution_count": null,
   "id": "b669d1fa-7abc-4b25-b032-033775a7062e",
   "metadata": {},
   "outputs": [],
   "source": [
    "import xsimlab as xs\n",
    "import xarray as xr\n",
    "%load_ext xsimlab.ipython"
   ]
  },
  {
   "cell_type": "markdown",
   "id": "a1b1c63e-d7ea-4065-8b1b-b38f6278d2c8",
   "metadata": {},
   "source": [
    "For this, we broadcast, at run time, the parameter/variable kd unto an array of dimension $n_x$"
   ]
  },
  {
   "cell_type": "code",
   "execution_count": null,
   "id": "1320f7d1-95b3-4ef7-888b-e6c5938b3ed8",
   "metadata": {},
   "outputs": [],
   "source": []
  },
  {
   "cell_type": "markdown",
   "id": "cb3f9058-ddc9-4528-b501-8cf9bc1e77ac",
   "metadata": {},
   "source": [
    "In this example, $k_d$ varies as a linear function of space"
   ]
  },
  {
   "cell_type": "code",
   "execution_count": null,
   "id": "92e33371-07c1-4e1b-8ae8-253b7673540d",
   "metadata": {},
   "outputs": [],
   "source": []
  },
  {
   "cell_type": "markdown",
   "id": "1de8aec7-f1c1-458a-9c26-a875c9c20a38",
   "metadata": {},
   "source": [
    "Note that any variable (not just those that are a function of space) can be made a funciton of time. For this, the array provided has to have the same length than the number of time steps in the master clock. If a parameter is function of both space and time or if a confusion can arise between what is a spatial or temporal variation, it is always best to not give simple numpy arrays but a xarray datasets that clearly identifies the dimensions being refered to."
   ]
  },
  {
   "cell_type": "code",
   "execution_count": null,
   "id": "bed27e22-5254-46a7-b1fd-4db35b6af70f",
   "metadata": {},
   "outputs": [],
   "source": []
  }
 ],
 "metadata": {
  "kernelspec": {
   "display_name": "Python 3 (ipykernel)",
   "language": "python",
   "name": "python3"
  },
  "language_info": {
   "codemirror_mode": {
    "name": "ipython",
    "version": 3
   },
   "file_extension": ".py",
   "mimetype": "text/x-python",
   "name": "python",
   "nbconvert_exporter": "python",
   "pygments_lexer": "ipython3",
   "version": "3.8.13"
  }
 },
 "nbformat": 4,
 "nbformat_minor": 5
}
