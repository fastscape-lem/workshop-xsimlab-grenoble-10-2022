{
 "cells": [
  {
   "cell_type": "markdown",
   "metadata": {
    "tags": []
   },
   "source": [
    "# A short introduction to Xarray (& friends)\n",
    "\n",
    "In short, [Xarray](https://xarray.dev/) is a Python library for handling n-dimensional, **labelled** arrays.\n",
    "\n",
    "In this notebook, we'll see how Xarray compares to (or integrates with) other Python arrays libraries such as Numpy, Dask and Zarr. We'll also see how to plot Xarray datasets."
   ]
  },
  {
   "cell_type": "markdown",
   "metadata": {},
   "source": [
    "## Environment setup"
   ]
  },
  {
   "cell_type": "code",
   "execution_count": null,
   "metadata": {},
   "outputs": [],
   "source": [
    "import dask.array as da\n",
    "import xarray as xr\n",
    "import matplotlib.pyplot as plt\n",
    "import numpy as np\n",
    "import zarr\n",
    "\n",
    "from dask.distributed import LocalCluster, Client"
   ]
  },
  {
   "cell_type": "markdown",
   "metadata": {},
   "source": [
    "## Numpy arrays\n",
    "\n",
    "Let's start with something familiar:"
   ]
  },
  {
   "cell_type": "code",
   "execution_count": null,
   "metadata": {},
   "outputs": [],
   "source": [
    "# a 3-d array where dimensions are, e.g., \"time\", \"x\" and \"y\".\n",
    "\n",
    "arr3d = np.random.uniform(size=(3, 2, 4))\n",
    "\n",
    "arr3d"
   ]
  },
  {
   "cell_type": "markdown",
   "metadata": {},
   "source": [
    "Indexing (slicing) numpy arrays by position (integers) and axis:"
   ]
  },
  {
   "cell_type": "code",
   "execution_count": null,
   "metadata": {},
   "outputs": [],
   "source": [
    "# extract the 1st time slice:\n",
    "\n",
    "arr3d[0]"
   ]
  },
  {
   "cell_type": "code",
   "execution_count": null,
   "metadata": {},
   "outputs": [],
   "source": [
    "# extract cross-sections along the \"y\" dimension\n",
    "\n",
    "arr3d[:, 0, :]"
   ]
  },
  {
   "cell_type": "markdown",
   "metadata": {},
   "source": [
    "Broadcasting (axis position is important):\n",
    "\n",
    "<img src=\"assets/broadcast.png\" alt=\"broadcast\" width=\"600\"/>"
   ]
  },
  {
   "cell_type": "code",
   "execution_count": null,
   "metadata": {},
   "outputs": [],
   "source": [
    "# extract 1st time slice and apply mutliplication factors\n",
    "# along the \"time\" dimension\n",
    "\n",
    "time0 = arr3d[0]\n",
    "time_factors = np.array([1, 2, 3])\n",
    "\n",
    "time0 * time_factors[:, None, None]"
   ]
  },
  {
   "cell_type": "markdown",
   "metadata": {},
   "source": [
    "Reductions (axis position is important):"
   ]
  },
  {
   "cell_type": "code",
   "execution_count": null,
   "metadata": {},
   "outputs": [],
   "source": [
    "# compute the mean along the \"y\" dimension\n",
    "\n",
    "arr3d.mean(axis=2)"
   ]
  },
  {
   "cell_type": "markdown",
   "metadata": {},
   "source": [
    "Is there a way to use the dimension names directly? I.e., a common source of bugs when handling square arrays (or matrices):"
   ]
  },
  {
   "cell_type": "code",
   "execution_count": null,
   "metadata": {},
   "outputs": [],
   "source": [
    "# both arr1 and arr2 are 2-d arrays with \"x\" and \"y\" dimensions\n",
    "\n",
    "arr1 = np.array([[0, 2], [1, 3]])\n",
    "arr2 = np.array([[0, 1], [3, 4]])\n",
    "\n",
    "arr1 + arr2"
   ]
  },
  {
   "cell_type": "code",
   "execution_count": null,
   "metadata": {},
   "outputs": [],
   "source": [
    "# really sure that arr1 and arr2 have the same dimension order?\n",
    "\n",
    "arr1 + arr2.transpose()"
   ]
  },
  {
   "cell_type": "markdown",
   "metadata": {},
   "source": [
    "## xarray.DataArray\n",
    "\n",
    "We provide the dimension names explicitly:"
   ]
  },
  {
   "cell_type": "code",
   "execution_count": null,
   "metadata": {},
   "outputs": [],
   "source": [
    "da3d = xr.DataArray(arr3d, dims=(\"time\", \"x\", \"y\"))\n",
    "\n",
    "da3d"
   ]
  },
  {
   "cell_type": "markdown",
   "metadata": {},
   "source": [
    "This `DataArray` is a lightweight wrapper around the numpy array:"
   ]
  },
  {
   "cell_type": "code",
   "execution_count": null,
   "metadata": {},
   "outputs": [],
   "source": [
    "da3d.data"
   ]
  },
  {
   "cell_type": "code",
   "execution_count": null,
   "metadata": {},
   "outputs": [],
   "source": [
    "da3d.data is arr3d"
   ]
  },
  {
   "cell_type": "markdown",
   "metadata": {},
   "source": [
    "Indexing (slicing) by position (integers) and **dimension name**:"
   ]
  },
  {
   "cell_type": "code",
   "execution_count": null,
   "metadata": {},
   "outputs": [],
   "source": [
    "# extract the 1st time slice:\n",
    "\n",
    "da3d.isel(time=0)"
   ]
  },
  {
   "cell_type": "code",
   "execution_count": null,
   "metadata": {},
   "outputs": [],
   "source": [
    "# extract cross-sections along the \"y\" dimension\n",
    "\n",
    "da3d.isel(x=0)"
   ]
  },
  {
   "cell_type": "markdown",
   "metadata": {},
   "source": [
    "Broadcasting by **dimension name**:"
   ]
  },
  {
   "cell_type": "code",
   "execution_count": null,
   "metadata": {},
   "outputs": [],
   "source": [
    "# extract 1st time slice and apply mutliplication factors\n",
    "# along the \"time\" dimension\n",
    "\n",
    "da_time0 = da3d.isel(time=0)\n",
    "da_time_factors = xr.DataArray([1, 2, 3], dims=\"time\")\n",
    "\n",
    "da_time_factors * da_time0"
   ]
  },
  {
   "cell_type": "markdown",
   "metadata": {},
   "source": [
    "Reduction **by dimension name**:"
   ]
  },
  {
   "cell_type": "code",
   "execution_count": null,
   "metadata": {},
   "outputs": [],
   "source": [
    "# compute the mean along the \"y\" dimension\n",
    "\n",
    "da3d.mean(\"y\")"
   ]
  },
  {
   "cell_type": "markdown",
   "metadata": {},
   "source": [
    "Handling square arrays is less error-prone:"
   ]
  },
  {
   "cell_type": "code",
   "execution_count": null,
   "metadata": {},
   "outputs": [],
   "source": [
    "da1 = xr.DataArray([[0, 2], [1, 3]], dims=(\"x\", \"y\"))\n",
    "da2 = xr.DataArray([[0, 1], [3, 4]], dims=(\"y\", \"x\"))\n",
    "\n",
    "da1 + da2"
   ]
  },
  {
   "cell_type": "markdown",
   "metadata": {},
   "source": [
    "### Coordinates!\n",
    "\n",
    "There is more than dimension names: Xarray supports defining labels along each dimension as coordinates. "
   ]
  },
  {
   "cell_type": "code",
   "execution_count": null,
   "metadata": {},
   "outputs": [],
   "source": [
    "da3d = da3d.assign_coords(\n",
    "    time=[2020, 2021, 2022],\n",
    "    x=[10, 20],\n",
    "    y=[100, 110, 120, 130],\n",
    ")\n",
    "\n",
    "da3d"
   ]
  },
  {
   "cell_type": "markdown",
   "metadata": {},
   "source": [
    "By default, those \"dimension\" are baked by an index, which means that we can use those coordinates to perform data selection **by label**:"
   ]
  },
  {
   "cell_type": "code",
   "execution_count": null,
   "metadata": {},
   "outputs": [],
   "source": [
    "da3d.sel(time=2020, x=10)"
   ]
  },
  {
   "cell_type": "markdown",
   "metadata": {},
   "source": [
    "We don't need to provide the exact labels:"
   ]
  },
  {
   "cell_type": "code",
   "execution_count": null,
   "metadata": {},
   "outputs": [],
   "source": [
    "da3d.sel(y=118, method=\"nearest\")"
   ]
  },
  {
   "cell_type": "markdown",
   "metadata": {},
   "source": [
    "Xarray also supports automatic alignment between indexed coordinates:\n",
    "\n",
    "<img src=\"assets/align.png\" alt=\"alignment\" width=\"400\"/>"
   ]
  },
  {
   "cell_type": "code",
   "execution_count": null,
   "metadata": {},
   "outputs": [],
   "source": [
    "da_time_factors = xr.DataArray(\n",
    "    [0.5, 0.1],\n",
    "    coords={\"time\": [2020, 2022]},\n",
    "    dims=\"time\",\n",
    ")\n",
    "\n",
    "da3d * da_time_factors"
   ]
  },
  {
   "cell_type": "markdown",
   "metadata": {},
   "source": [
    "## xarray.Dataset\n",
    "\n",
    "An `xarray.Dataset` is a collection of (data) variables sharing the common dimensions (and coordinates).\n",
    "\n",
    "<img src=\"assets/xarray-dataset-diagram.png\" alt=\"xarray data model\" width=\"600\"/>\n",
    "\n",
    "\n",
    "(https://xarray.pydata.org)\n",
    "\n",
    "\n",
    "Let's load a dataset from Xarray's tutorial:"
   ]
  },
  {
   "cell_type": "code",
   "execution_count": null,
   "metadata": {},
   "outputs": [],
   "source": [
    "ds = xr.tutorial.load_dataset('air_temperature')\n",
    "\n",
    "ds"
   ]
  },
  {
   "cell_type": "markdown",
   "metadata": {},
   "source": [
    "We can access the variables simply like this (returns a DataArray):"
   ]
  },
  {
   "cell_type": "code",
   "execution_count": null,
   "metadata": {},
   "outputs": [],
   "source": [
    "ds.time"
   ]
  },
  {
   "cell_type": "markdown",
   "metadata": {},
   "source": [
    "DataArrays and Datasets may have attributes too:"
   ]
  },
  {
   "cell_type": "code",
   "execution_count": null,
   "metadata": {},
   "outputs": [],
   "source": [
    "ds.attrs"
   ]
  },
  {
   "cell_type": "code",
   "execution_count": null,
   "metadata": {},
   "outputs": [],
   "source": [
    "ds.time.attrs"
   ]
  },
  {
   "cell_type": "markdown",
   "metadata": {},
   "source": [
    "Generally, operations like indexing, reductions, arithmetics, etc. work the same way for both DataArray and Dataset objects. For the latter, operations are applied to all the (data) variables:"
   ]
  },
  {
   "cell_type": "code",
   "execution_count": null,
   "metadata": {},
   "outputs": [],
   "source": [
    "ds.sel(time=\"2014-02\")"
   ]
  },
  {
   "cell_type": "code",
   "execution_count": null,
   "metadata": {},
   "outputs": [],
   "source": [
    "ds.mean([\"lat\", \"lon\"])"
   ]
  },
  {
   "cell_type": "markdown",
   "metadata": {
    "tags": []
   },
   "source": [
    "## Plotting\n",
    "\n",
    "Xarray has powerful plotting capabilities built on top of matplotlib. See:\n",
    "\n",
    "- https://docs.xarray.dev/en/stable/gallery.html\n",
    "- https://docs.xarray.dev/en/stable/user-guide/plotting.html"
   ]
  },
  {
   "cell_type": "markdown",
   "metadata": {},
   "source": [
    "Example: plot time series at a given location:"
   ]
  },
  {
   "cell_type": "code",
   "execution_count": null,
   "metadata": {},
   "outputs": [],
   "source": [
    "# note the matplotlib tick, axis labels and title automatically generated from metadata\n",
    "\n",
    "ds.air.sel(lat=50, lon=225).plot();"
   ]
  },
  {
   "cell_type": "code",
   "execution_count": null,
   "metadata": {},
   "outputs": [],
   "source": [
    "# compare that with raw numpy and matplotlib code\n",
    "\n",
    "air_raw = ds.air.data\n",
    "\n",
    "lat = 50\n",
    "lon = 225\n",
    "\n",
    "ilat = 10\n",
    "ilon = 10\n",
    "\n",
    "ts = air_raw[:, ilat, ilon]\n",
    "plt.plot(ts)\n",
    "plt.gca().set_title(f\"lat = {lat}, lon = {lon}\")\n",
    "plt.gca().set_ylabel(\"4xDaily Air temperature\")\n",
    "plt.gca().set_xlabel(\"Time\");\n",
    "\n",
    "# I don't remember how to properly format time tick labels"
   ]
  },
  {
   "cell_type": "markdown",
   "metadata": {},
   "source": [
    "Or plot time series at multiple locations:"
   ]
  },
  {
   "cell_type": "code",
   "execution_count": null,
   "metadata": {},
   "outputs": [],
   "source": [
    "# xarray is smart enough that we want to plot time series at three locations (note the automatic legend)\n",
    "\n",
    "ds.air.sel(lat=[50, 55, 60], lon=225).plot.line(x=\"time\");"
   ]
  },
  {
   "cell_type": "markdown",
   "metadata": {},
   "source": [
    "A more advanced example: compute seasonal averages and make a facet plot"
   ]
  },
  {
   "cell_type": "code",
   "execution_count": null,
   "metadata": {},
   "outputs": [],
   "source": [
    "ds.air.groupby('time.season').mean().plot(x=\"lon\", y=\"lat\", col=\"season\", col_wrap=2);"
   ]
  },
  {
   "cell_type": "markdown",
   "metadata": {},
   "source": [
    "## Xarray integrates well with some libraries for interactive visualization\n",
    "\n",
    "Example with [HvPlot](https://hvplot.holoviz.org/) / [Holoviews](https://holoviews.org/):"
   ]
  },
  {
   "cell_type": "code",
   "execution_count": null,
   "metadata": {},
   "outputs": [],
   "source": [
    "import hvplot.xarray"
   ]
  },
  {
   "cell_type": "code",
   "execution_count": null,
   "metadata": {},
   "outputs": [],
   "source": [
    "ds.air.hvplot.image(groupby='time', frame_width=400, frame_height=400)"
   ]
  },
  {
   "cell_type": "code",
   "execution_count": null,
   "metadata": {},
   "outputs": [],
   "source": [
    "(ds.air\n",
    " .sel(lat=[50, 60, 70])\n",
    " .hvplot.line(x='lon', y='air', groupby='time', by='lat')\n",
    ")"
   ]
  },
  {
   "cell_type": "markdown",
   "metadata": {},
   "source": [
    "## Dask arrays\n",
    "\n",
    "[Dask arrays](https://docs.dask.org/en/stable/array.html) are large arrays that are formed by (many) smaller arrays (most of the time those are numpy arrays).  while executing the computations in parallel.\n",
    "\n",
    "<img src=\"assets/dask-array.png\" alt=\"dask array\" width=\"400\"/>\n",
    "\n",
    "(https://docs.dask.org)"
   ]
  },
  {
   "cell_type": "code",
   "execution_count": null,
   "metadata": {},
   "outputs": [],
   "source": [
    "darr3d = da.random.uniform(size=(300, 1000, 2000))\n",
    "\n",
    "darr3d"
   ]
  },
  {
   "cell_type": "markdown",
   "metadata": {},
   "source": [
    "Dask allows users to handle those arrays just like Numpy, e.g.,"
   ]
  },
  {
   "cell_type": "code",
   "execution_count": null,
   "metadata": {},
   "outputs": [],
   "source": [
    "time0 = darr3d[0]\n",
    "time_factors = np.arange(300)\n",
    "\n",
    "result = (time0 * time_factors[:, None, None]).mean(axis=0)"
   ]
  },
  {
   "cell_type": "markdown",
   "metadata": {},
   "source": [
    "Unlike Numpy, the result is not computed immediately. Instead, it returns another dask array:"
   ]
  },
  {
   "cell_type": "code",
   "execution_count": null,
   "metadata": {},
   "outputs": [],
   "source": [
    "result"
   ]
  },
  {
   "cell_type": "markdown",
   "metadata": {},
   "source": [
    "Dask arrays are \"lazy\" arrays, i.e., their actual element values are not computed yet. Instead a dask array holds a graph of computations:"
   ]
  },
  {
   "cell_type": "code",
   "execution_count": null,
   "metadata": {},
   "outputs": [],
   "source": [
    "result.dask"
   ]
  },
  {
   "cell_type": "code",
   "execution_count": null,
   "metadata": {},
   "outputs": [],
   "source": [
    "result.visualize()"
   ]
  },
  {
   "cell_type": "markdown",
   "metadata": {},
   "source": [
    "To compute the actual values, we have to call `.compute()` explicitly:"
   ]
  },
  {
   "cell_type": "code",
   "execution_count": null,
   "metadata": {},
   "outputs": [],
   "source": [
    "# returns a numpy array in this case\n",
    "\n",
    "result.compute()"
   ]
  },
  {
   "cell_type": "markdown",
   "metadata": {},
   "source": [
    "Dask provides the computation graph to one of its schedulers, which executes it in parallel. For dask arrays, the default schedulers is \"threads\". Alternatively, we can use multiple processes:"
   ]
  },
  {
   "cell_type": "code",
   "execution_count": null,
   "metadata": {},
   "outputs": [],
   "source": [
    "result.compute(scheduler=\"processes\")"
   ]
  },
  {
   "cell_type": "markdown",
   "metadata": {},
   "source": [
    "There's also an advanced (distributed) scheduler, which can be used with a monitoring dashboard (when used within jupyterlab -> [dask-labextension](https://github.com/dask/dask-labextension)):"
   ]
  },
  {
   "cell_type": "code",
   "execution_count": null,
   "metadata": {},
   "outputs": [],
   "source": [
    "# start a new local dask (distributed) cluster\n",
    "\n",
    "cluster = LocalCluster()\n",
    "cluster"
   ]
  },
  {
   "cell_type": "code",
   "execution_count": null,
   "metadata": {},
   "outputs": [],
   "source": [
    "# create a new client and connect it to the cluster\n",
    "\n",
    "client = Client(cluster)\n",
    "client"
   ]
  },
  {
   "cell_type": "code",
   "execution_count": null,
   "metadata": {},
   "outputs": [],
   "source": [
    "result.compute(scheduler=client)"
   ]
  },
  {
   "cell_type": "markdown",
   "metadata": {},
   "source": [
    "### Xarray + Dask integration\n",
    "\n",
    "Xarray integrates well with Dask."
   ]
  },
  {
   "cell_type": "code",
   "execution_count": null,
   "metadata": {},
   "outputs": [],
   "source": [
    "# Let's take back the tutorial xarray Dataset, and \"chunk\" the data variables\n",
    "# along the time dimension:\n",
    "\n",
    "dsd = ds.chunk({\"time\": 100})\n",
    "\n",
    "dsd"
   ]
  },
  {
   "cell_type": "markdown",
   "metadata": {},
   "source": [
    "The \"air\" variable (DataArray) is here a lightweight wrapper around a dask array:"
   ]
  },
  {
   "cell_type": "code",
   "execution_count": null,
   "metadata": {},
   "outputs": [],
   "source": [
    "dsd.air.data"
   ]
  },
  {
   "cell_type": "markdown",
   "metadata": {},
   "source": [
    "Most Xarray operations (reduction, indexing, arithmetics...) work seamlessly with dask arrays:"
   ]
  },
  {
   "cell_type": "code",
   "execution_count": null,
   "metadata": {},
   "outputs": [],
   "source": [
    "result = dsd.air.sel(lat=70).mean(\"time\")\n",
    "\n",
    "result"
   ]
  },
  {
   "cell_type": "markdown",
   "metadata": {},
   "source": [
    "We also need here to explicitly call `.compute()`:"
   ]
  },
  {
   "cell_type": "code",
   "execution_count": null,
   "metadata": {},
   "outputs": [],
   "source": [
    "result.compute()"
   ]
  },
  {
   "cell_type": "markdown",
   "metadata": {},
   "source": [
    "## Zarr arrays\n",
    "\n",
    "[Zarr](https://zarr.readthedocs.io) arrays are chunked arrays (like Dask) that can be stored somewhere (in memory, on disk, in a database, on the cloud, etc.) most often after applying some compression filter.\n",
    "\n",
    "For example, we can create new Zarr arrays in-memory:"
   ]
  },
  {
   "cell_type": "code",
   "execution_count": null,
   "metadata": {},
   "outputs": [],
   "source": [
    "# create a 2-d array in-memory\n",
    "\n",
    "z = zarr.zeros((10000, 10000), chunks=(1000, 1000))\n",
    "\n",
    "z.info"
   ]
  },
  {
   "cell_type": "markdown",
   "metadata": {},
   "source": [
    "Like dask arrays, zarr arrays are \"lazy\". In the example above, no memory has been allocated yet. Memory fills up as we assign data to (subsets of the) array, e.g., "
   ]
  },
  {
   "cell_type": "code",
   "execution_count": null,
   "metadata": {},
   "outputs": [],
   "source": [
    "z[0:100, 100:200] = 1.0\n",
    "\n",
    "z.info"
   ]
  },
  {
   "cell_type": "markdown",
   "metadata": {},
   "source": [
    "We can also create a new array that is stored on disk:"
   ]
  },
  {
   "cell_type": "code",
   "execution_count": null,
   "metadata": {},
   "outputs": [],
   "source": [
    "# this will create an \"example.zarr\" folder in this notebook directory\n",
    "\n",
    "z1 = zarr.open(\n",
    "    \"example.zarr\",\n",
    "    mode=\"w\",\n",
    "    shape=(10000, 10000),\n",
    "    chunks=(1000, 1000),\n",
    ")\n",
    "\n",
    "z1.info"
   ]
  },
  {
   "cell_type": "code",
   "execution_count": null,
   "metadata": {},
   "outputs": [],
   "source": [
    "# This will create some data file in the \"example.zarr\" folder\n",
    "# (one file per chunk)\n",
    "\n",
    "z1[0:100, 100:200] = 1.0"
   ]
  },
  {
   "cell_type": "markdown",
   "metadata": {},
   "source": [
    "It is also possible with Zarr to store a group (hierarchy) of arrays: "
   ]
  },
  {
   "cell_type": "code",
   "execution_count": null,
   "metadata": {},
   "outputs": [],
   "source": [
    "# this will create a \"dataset.zarr\" folder in this notebook directory\n",
    "\n",
    "group = zarr.group(store=\"dataset.zarr\")"
   ]
  },
  {
   "cell_type": "code",
   "execution_count": null,
   "metadata": {},
   "outputs": [],
   "source": [
    "# This will create a \"z\" subfolder in \"dataset.zarr\"\n",
    "\n",
    "group.create_dataset(\"z\", shape=(10000, 10000), chunks=(1000, 1000))"
   ]
  },
  {
   "cell_type": "code",
   "execution_count": null,
   "metadata": {},
   "outputs": [],
   "source": [
    "# This will create some data file in the \"dataset.zarr/z\" directory\n",
    "\n",
    "group.z[0:100, 100:200] = 1.0"
   ]
  },
  {
   "cell_type": "code",
   "execution_count": null,
   "metadata": {},
   "outputs": [],
   "source": [
    "group.z.info"
   ]
  },
  {
   "cell_type": "markdown",
   "metadata": {},
   "source": [
    "### Xarray + Zarr (+ Dask) integration\n",
    "\n",
    "Xarray integrates well with Zarr, i.e., it is possible to read (write) a Zarr dataset to (from) an Xarray Dataset:"
   ]
  },
  {
   "cell_type": "code",
   "execution_count": null,
   "metadata": {},
   "outputs": [],
   "source": [
    "# write the (chunked) tutorial Dataset to the Zarr format\n",
    "\n",
    "dsd.to_zarr(\"air.zarr\")"
   ]
  },
  {
   "cell_type": "code",
   "execution_count": null,
   "metadata": {},
   "outputs": [],
   "source": [
    "# Open the Zarr tutorial dataset into a new Xarray Dataset\n",
    "\n",
    "ds_air = xr.open_dataset(\"air.zarr\", engine=\"zarr\", chunks={})\n",
    "\n",
    "ds_air"
   ]
  },
  {
   "cell_type": "markdown",
   "metadata": {},
   "source": [
    "In the latter Dataset, the `air` variable is not yet loaded into memory (\"lazy\" dask array). Data will be loaded on-demand, e.g., during the execution of the dask's graph: "
   ]
  },
  {
   "cell_type": "code",
   "execution_count": null,
   "metadata": {},
   "outputs": [],
   "source": [
    "ds_air.mean().compute()"
   ]
  },
  {
   "cell_type": "markdown",
   "metadata": {},
   "source": [
    "## \"Duck arrays\"\n",
    "\n",
    "We can see in the examples above that Numpy, Dask, Zarr arrays and Xarray DataArray / Dataset objects all expose some similar API (e.g., methods like `.mean()`, indexing, operators, etc.). We usually call those arrays \"duck\" arrays, by reference to [Duck typing](https://en.wikipedia.org/wiki/Duck_typing), which roughly means that the type of an object is less important than the properties and actions (methods) it defines).\n",
    "\n",
    "Numpy actually defines a protocol so that it is possible to reuse its API with other array types, e.g.,"
   ]
  },
  {
   "cell_type": "code",
   "execution_count": null,
   "metadata": {},
   "outputs": [],
   "source": [
    "# passing a numpy array\n",
    "\n",
    "np.sqrt(arr3d)"
   ]
  },
  {
   "cell_type": "code",
   "execution_count": null,
   "metadata": {},
   "outputs": [],
   "source": [
    "# passing a dask array\n",
    "\n",
    "np.sqrt(darr3d)"
   ]
  },
  {
   "cell_type": "code",
   "execution_count": null,
   "metadata": {},
   "outputs": [],
   "source": [
    "# passing a chunked xarray Dataset loaded from a Zarr store !!\n",
    "\n",
    "np.sqrt(ds_air)"
   ]
  },
  {
   "cell_type": "code",
   "execution_count": null,
   "metadata": {},
   "outputs": [],
   "source": []
  }
 ],
 "metadata": {
  "kernelspec": {
   "display_name": "Python 3 (ipykernel)",
   "language": "python",
   "name": "python3"
  },
  "language_info": {
   "codemirror_mode": {
    "name": "ipython",
    "version": 3
   },
   "file_extension": ".py",
   "mimetype": "text/x-python",
   "name": "python",
   "nbconvert_exporter": "python",
   "pygments_lexer": "ipython3",
   "version": "3.8.13"
  }
 },
 "nbformat": 4,
 "nbformat_minor": 4
}
