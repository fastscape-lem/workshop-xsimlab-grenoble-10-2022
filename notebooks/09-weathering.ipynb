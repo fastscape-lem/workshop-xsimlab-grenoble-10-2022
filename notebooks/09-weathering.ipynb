{
 "cells": [
  {
   "cell_type": "markdown",
   "id": "6d49e265-1ee3-4990-86b5-ecc76c6fc538",
   "metadata": {},
   "source": [
    "Here we will add a weathering model that assumes that the rate of weathering front advance (into the bedrock) is proportional to the fluid velocity in the overlying regolith"
   ]
  },
  {
   "cell_type": "code",
   "execution_count": null,
   "id": "6a78228e-d5ff-44a0-9cec-61cb479783a0",
   "metadata": {},
   "outputs": [],
   "source": [
    "import numpy as np\n",
    "import matplotlib.pyplot as plt"
   ]
  },
  {
   "cell_type": "code",
   "execution_count": null,
   "id": "b669d1fa-7abc-4b25-b032-033775a7062e",
   "metadata": {},
   "outputs": [],
   "source": [
    "import xsimlab as xs\n",
    "import xarray as xr\n",
    "%load_ext xsimlab.ipython"
   ]
  },
  {
   "cell_type": "code",
   "execution_count": null,
   "id": "6b09c814-bf36-414e-bc01-a3bbdedaf8db",
   "metadata": {},
   "outputs": [],
   "source": [
    "@xs.process\n",
    "class Topography:\n",
    "    elevation = xs.variable(dims='x', intent='inout',\n",
    "                      description='topography elevation',\n",
    "                      attrs={'units': 'm'})\n",
    "    dtopo = xs.group('dtopo')\n",
    "    \n",
    "    def run_step(self):\n",
    "        self.elevation = self.elevation + sum(self.dtopo)\n",
    "        self.elevation[-1] = self.elevation[-2]"
   ]
  },
  {
   "cell_type": "code",
   "execution_count": null,
   "id": "a7af9896-d434-4f51-8cb3-68b012feff40",
   "metadata": {},
   "outputs": [],
   "source": [
    "@xs.process\n",
    "class Erosion:\n",
    "    \n",
    "    kd = xs.variable(dims=[(),'x'],\n",
    "                     description='transport coefficient',\n",
    "                    attrs={'units': 'm^2/yr'})\n",
    "    surface = xs.foreign(Topography, 'elevation', intent='in')\n",
    "    L = xs.variable(description='length',\n",
    "                   attrs={'units': 'm'})\n",
    "    dx = xs.variable(intent='out',\n",
    "                    description='spatial step',\n",
    "                    attrs={'units': 'm'})\n",
    "    dtopo = xs.variable(dims='x', intent='out',\n",
    "                        description='erosional increment in topography',\n",
    "                        attrs={'untis': 'm'},\n",
    "                        groups='dtopo')\n",
    "    \n",
    "    def initialize(self):\n",
    "        self.dx = self.L/(len(self.surface) - 1)\n",
    "        self.dtopo = np.zeros_like(self.surface)\n",
    "        \n",
    "    @xs.runtime(args=(\"step_delta\"))\n",
    "    def run_step(self, dt):\n",
    "        kd_var = np.broadcast_to(self.kd, self.surface.shape).flatten()\n",
    "        self.dtopo[1:-1] = (dt/self.dx**2/2\n",
    "                           *((self.surface[:-2] - self.surface[1:-1])*(kd_var[:-2]+kd_var[1:-1])\n",
    "                            -(self.surface[1:-1] - self.surface[2:])*(kd_var[1:-1]+kd_var[2:])))\n",
    "        self.dtopo[0] = 0\n",
    "        self.dtopo[-1] = self.dtopo[-2]\n"
   ]
  },
  {
   "cell_type": "code",
   "execution_count": null,
   "id": "599219c5-5a5b-4041-adb8-b480b4cb9226",
   "metadata": {},
   "outputs": [],
   "source": [
    "@xs.process\n",
    "class Geom:\n",
    "    length = xs.variable(description='length',\n",
    "                        attrs={'units': 'm'})\n",
    "    slope = xs.variable(description='initial slope')\n",
    "    nx = xs.variable(description='spatial resolution')\n",
    "    L = xs.foreign(Erosion, 'L', intent='out')\n",
    "    z = xs.foreign(Topography, 'elevation', intent='out')\n",
    "    \n",
    "    def initialize(self):\n",
    "        self.L = self.length\n",
    "        self.z = np.linspace(0, self.length, self.nx)\n"
   ]
  },
  {
   "cell_type": "code",
   "execution_count": null,
   "id": "cf1b9d05-11b5-455f-9536-defd98b5e30c",
   "metadata": {},
   "outputs": [],
   "source": [
    "@xs.process\n",
    "class Uplift:\n",
    "    rate = xs.variable(dims=[(),'x'],\n",
    "                       description='uplift rate',\n",
    "                      attrs={'units': 'm/yr'})\n",
    "    dtopo = xs.variable(dims='x', intent='out',\n",
    "                        description='uplift increment in topography',\n",
    "                        attrs={'untis': 'm'},\n",
    "                       groups='dtopo')\n",
    "    nx = xs.foreign(Geom, 'nx')\n",
    "    \n",
    "    @xs.runtime(args=(\"step_delta\"))\n",
    "    def run_step(self, dt):\n",
    "        u_var = np.broadcast_to(self.rate, self.nx).flatten()\n",
    "        self.dtopo = dt*u_var\n",
    "        self.dtopo[0] = 0\n"
   ]
  },
  {
   "cell_type": "code",
   "execution_count": null,
   "id": "5b036e69-414f-409d-b9b8-13f212e84d62",
   "metadata": {},
   "outputs": [],
   "source": [
    "def integrate(x):\n",
    "    \"\"\"\n",
    "    integrate:\n",
    "    ---------\n",
    "\n",
    "    Function to integrate variable x by simple summation:\n",
    "    int_i = sum_(j = 1 to i) of x_j\n",
    "\n",
    "    in input:\n",
    "    x: array to integrate\n",
    "\n",
    "    in output:\n",
    "    integ: result of the integration\n",
    "\n",
    "    \"\"\"\n",
    "\n",
    "    integ = x.copy()\n",
    "    for i in range(len(integ) - 1, 0, -1):\n",
    "        integ[i - 1] = integ[i - 1] + integ[i]\n",
    "\n",
    "    return integ"
   ]
  },
  {
   "cell_type": "code",
   "execution_count": null,
   "id": "1aaccf5c-2419-4253-8989-29eda8bcc47d",
   "metadata": {},
   "outputs": [],
   "source": [
    "@xs.process\n",
    "class Precipitation:\n",
    "    rate = xs.variable(dims=[(),'x'],\n",
    "                      description='precipitation/infiltration rate',\n",
    "                      attrs={'units': 'm'})\n",
    "    integrated = xs.variable(dims='x',\n",
    "                            description='upstream integrated precipitation rate',\n",
    "                             attrs={'units': 'm^2/yr'},\n",
    "                             intent='out')\n",
    "    dx = xs.foreign(Erosion, 'dx')\n",
    "    nx = xs.foreign(Geom, 'nx')\n",
    "        \n",
    "    def run_step(self):\n",
    "        _rate = np.broadcast_to(self.rate, self.nx).flatten()*self.dx\n",
    "        self.integrated = integrate(_rate)\n"
   ]
  },
  {
   "cell_type": "code",
   "execution_count": null,
   "id": "54027d4a-365f-4818-b058-2a231e2a2306",
   "metadata": {},
   "outputs": [],
   "source": [
    "def computeHydro(B, z, accum, dx, K):\n",
    "    \"\"\"\n",
    "    table:\n",
    "    -----\n",
    "\n",
    "    Function to compute the geometry of the water table\n",
    "    using the second-order accurate finite difference scheme\n",
    "    described in Braun et al (2015)\n",
    "\n",
    "    in input:\n",
    "    B: the thickness of the regolith\n",
    "    z: the surface topography\n",
    "    accum: cumulative infiltration rate\n",
    "    dx: distance between two nodes\n",
    "    K: hydraulic conductivity\n",
    "\n",
    "\n",
    "    in output:\n",
    "    H: water table height\n",
    "\n",
    "    \"\"\"\n",
    "\n",
    "    H = z.copy()\n",
    "    for i in range(1, len(H)):\n",
    "        b = -z[i] - z[i - 1] + B[i] + B[i - 1]\n",
    "        c = (z[i] + z[i - 1] - B[i] - B[i - 1] - H[i - 1]) * H[i - 1] - 2 * dx * accum[\n",
    "            i\n",
    "        ] / K\n",
    "        H[i] = (-b + np.sqrt(b ** 2 - 4 * c)) / 2\n",
    "        if H[i] > z[i]:\n",
    "            H[i] = z[i]\n",
    "        if H[i] < z[i] - B[i]:\n",
    "            H[i] = z[i] - B[i]\n",
    "    return H"
   ]
  },
  {
   "cell_type": "markdown",
   "id": "34286cfb-7a34-44a5-a731-022cc42f4c66",
   "metadata": {},
   "source": [
    "For this we improve our water table computation to include the computation of the evolution of the water table using the following equation:\n",
    "$$\\frac{\\partial B}{\\partial t}=F|v|$$\n",
    "where $F$ is a fudge factor and $v=-K\\frac{\\partial H}{\\partial x}$ is the fluid velocity. We will assume that the regolith layer thickness is nil at the start of the model run (or that the front is located at the surface, which is also the initial regolith/bedrock interface."
   ]
  },
  {
   "cell_type": "code",
   "execution_count": null,
   "id": "bed27e22-5254-46a7-b1fd-4db35b6af70f",
   "metadata": {},
   "outputs": [],
   "source": []
  }
 ],
 "metadata": {
  "kernelspec": {
   "display_name": "Python [conda env:xsimlab]",
   "language": "python",
   "name": "conda-env-xsimlab-py"
  },
  "language_info": {
   "codemirror_mode": {
    "name": "ipython",
    "version": 3
   },
   "file_extension": ".py",
   "mimetype": "text/x-python",
   "name": "python",
   "nbconvert_exporter": "python",
   "pygments_lexer": "ipython3",
   "version": "3.8.13"
  }
 },
 "nbformat": 4,
 "nbformat_minor": 5
}
