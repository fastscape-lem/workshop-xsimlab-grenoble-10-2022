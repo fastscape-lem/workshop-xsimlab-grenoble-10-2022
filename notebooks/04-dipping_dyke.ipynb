{
 "cells": [
  {
   "cell_type": "code",
   "execution_count": 6,
   "id": "5f1e48b2-1e8d-428d-bf1d-b4cb865bcdfa",
   "metadata": {},
   "outputs": [],
   "source": [
    "import numpy as np\n",
    "import xsimlab as xs\n",
    "import matplotlib.pyplot as plt\n",
    "import fastscape\n",
    "\n",
    "%matplotlib inline\n",
    "%load_ext xsimlab.ipython"
   ]
  },
  {
   "cell_type": "code",
   "execution_count": 7,
   "id": "d2a181ba-4c18-4094-8b87-fc88fdf2f8d8",
   "metadata": {},
   "outputs": [
    {
     "name": "stdout",
     "output_type": "stream",
     "text": [
      "xarray-simlab version:  0.5.0\n",
      "fastscape version:  0.1.0beta3+1.g550fc3a\n"
     ]
    }
   ],
   "source": [
    "print('xarray-simlab version: ', xs.__version__)\n",
    "print('fastscape version: ', fastscape.__version__)"
   ]
  },
  {
   "cell_type": "markdown",
   "id": "b6a7aedd-aa11-4d95-b4ac-fea656b7f1c3",
   "metadata": {},
   "source": [
    "In this notebook, we will modify the fastscape basic_model to make the erodibility and diffusivity of a dipping dyke harder (twice lower). For this we need to develop a new process that, first, describes the dyke geometry, second, tracks its horizontal position as a function of total erosion and, third, modifies the erodibility and diffusivity accordingly.\n",
    "\n",
    "This process must have as inputs:\n",
    "- the geometry of the problem/mesh \n",
    "- the total erosion at time t\n",
    "\n",
    "and as output:\n",
    "- updated values for the erodibility, $K_f$ and diffusivity, $k_d$\n",
    "\n",
    "as well as internal parameters, including the dyke's:\n",
    "- initial position\n",
    "- dip\n",
    "- width "
   ]
  },
  {
   "cell_type": "markdown",
   "id": "75ce4a61-145e-4e0b-b49a-b5839fa498fc",
   "metadata": {},
   "source": [
    "<center><img src=\"assets/DippingDyke.jpg\" width=500>"
   ]
  },
  {
   "cell_type": "code",
   "execution_count": 1,
   "id": "45a29eae-5041-47af-a9ef-fed80de9908c",
   "metadata": {},
   "outputs": [
    {
     "data": {
      "text/plain": [
       "<xsimlab.Model (16 processes, 9 inputs)>\n",
       "grid\n",
       "    shape           [in] ('shape_yx',) nb. of grid nodes in (y, x)\n",
       "    length          [in] ('shape_yx',) total grid length in (y, x)\n",
       "boundary\n",
       "    status          [in] () or ('border',) node status at borders\n",
       "fs_context\n",
       "uplift\n",
       "    rate            [in] () or ('y', 'x') uplift rate\n",
       "tectonics\n",
       "init_topography\n",
       "    seed            [in] random seed\n",
       "surf2erode\n",
       "init_erosion\n",
       "flow\n",
       "drainage\n",
       "spl\n",
       "    k_coef          [in] () or ('y', 'x') bedrock channel incision ...\n",
       "    area_exp        [in] drainage area exponent\n",
       "    slope_exp       [in] slope exponent\n",
       "diffusion\n",
       "    diffusivity     [in] () or ('y', 'x') diffusivity (transport co...\n",
       "erosion\n",
       "vmotion\n",
       "topography\n",
       "terrain"
      ]
     },
     "execution_count": 1,
     "metadata": {},
     "output_type": "execute_result"
    }
   ],
   "source": [
    "from fastscape.models import basic_model\n",
    "basic_model"
   ]
  },
  {
   "cell_type": "code",
   "execution_count": 2,
   "id": "de7fca66-daad-45d7-9c3f-47f62e400567",
   "metadata": {},
   "outputs": [
    {
     "data": {
      "text/plain": [
       "<TotalErosion 'erosion' (xsimlab process)>\n",
       "Variables:\n",
       "    erosion_vars          [in] <--- group 'erosion'\n",
       "    cumulative_height  [inout] () or ('y', 'x') erosion height accu...\n",
       "    height               [out] () or ('y', 'x') total erosion heigh...\n",
       "    rate                 [out] () or ('y', 'x') total erosion rate ...\n",
       "    grid_area             [in] <--- grid.area\n",
       "    domain_rate          [out] domain-integrated volumetric erosion...\n",
       "Simulation stages:\n",
       "    run_step"
      ]
     },
     "execution_count": 2,
     "metadata": {},
     "output_type": "execute_result"
    }
   ],
   "source": [
    "basic_model.erosion"
   ]
  },
  {
   "cell_type": "code",
   "execution_count": 3,
   "id": "958e7260-154d-425f-9c57-c43e14193ad8",
   "metadata": {},
   "outputs": [
    {
     "data": {
      "text/plain": [
       "<StreamPowerChannel 'spl' (xsimlab process)>\n",
       "Variables:\n",
       "    erosion       [out] ('y', 'x') channel erosion and/or deposition\n",
       "    k_coef         [in] () or ('y', 'x') bedrock channel incision c...\n",
       "    area_exp       [in] drainage area exponent\n",
       "    slope_exp      [in] slope exponent\n",
       "    shape          [in] <--- grid.shape\n",
       "    elevation      [in] <--- surf2erode.elevation\n",
       "    receivers      [in] <--- flow.receivers\n",
       "    flowacc        [in] <--- drainage.flowacc\n",
       "    fs_context     [in] <--- fs_context.context\n",
       "    chi           [out] ('y', 'x') integrated drainage area (chi)\n",
       "Simulation stages:\n",
       "    run_step"
      ]
     },
     "execution_count": 3,
     "metadata": {},
     "output_type": "execute_result"
    }
   ],
   "source": [
    "basic_model.spl"
   ]
  },
  {
   "cell_type": "code",
   "execution_count": 22,
   "id": "69f04243-4324-4457-a022-12fe70d97fab",
   "metadata": {},
   "outputs": [
    {
     "data": {
      "text/plain": [
       "<RasterGrid2D 'grid' (xsimlab process)>\n",
       "Variables:\n",
       "    shape         [in] ('shape_yx',) nb. of grid nodes in (y, x)\n",
       "    size         [out] total nb. of nodes\n",
       "    area         [out] total grid area\n",
       "    cell_area    [out] fixed grid cell area\n",
       "    dx           [out] grid spacing in x (cols)\n",
       "    dy           [out] grid spacing in y (rows)\n",
       "    nx           [out] nb. of nodes in x (cols)\n",
       "    ny           [out] nb. of nodes in y (rows)\n",
       "    x            [out] ('x',) grid x coordinate\n",
       "    y            [out] ('y',) grid y coordinate\n",
       "    length        [in] ('shape_yx',) total grid length in (y, x)\n",
       "    origin       [out] ('shape_yx',) (y, x) coordinates of grid origin\n",
       "    spacing      [out] ('shape_yx',) grid node spacing in (y, x)\n",
       "Simulation stages:\n",
       "    initialize"
      ]
     },
     "execution_count": 22,
     "metadata": {},
     "output_type": "execute_result"
    }
   ],
   "source": [
    "basic_model.grid"
   ]
  },
  {
   "cell_type": "code",
   "execution_count": null,
   "id": "a6b891b6-8ece-4d9a-bef2-88a9b9f1759f",
   "metadata": {},
   "outputs": [],
   "source": []
  }
 ],
 "metadata": {
  "kernelspec": {
   "display_name": "Python 3 (ipykernel)",
   "language": "python",
   "name": "python3"
  },
  "language_info": {
   "codemirror_mode": {
    "name": "ipython",
    "version": 3
   },
   "file_extension": ".py",
   "mimetype": "text/x-python",
   "name": "python",
   "nbconvert_exporter": "python",
   "pygments_lexer": "ipython3",
   "version": "3.8.13"
  }
 },
 "nbformat": 4,
 "nbformat_minor": 5
}
