{
 "cells": [
  {
   "cell_type": "markdown",
   "id": "ba0bd7c9-b48f-4a94-b647-251eeeb9d504",
   "metadata": {},
   "source": [
    "# Xarray hands-on exercises"
   ]
  },
  {
   "cell_type": "code",
   "execution_count": null,
   "id": "7a175989-438c-425f-b8fd-3604aa3e21d6",
   "metadata": {},
   "outputs": [],
   "source": [
    "import numpy as np\n",
    "import xarray as xr\n",
    "\n",
    "import pystac_client\n",
    "import planetary_computer\n",
    "\n",
    "import rioxarray\n",
    "import xrspatial\n",
    "\n",
    "import ipyleaflet\n",
    "import matplotlib.pyplot as plt\n",
    "import hvplot.xarray\n",
    "from datashader.transfer_functions import shade, stack\n",
    "from datashader.colors import Elevation"
   ]
  },
  {
   "cell_type": "markdown",
   "id": "c3c0907d-045a-41b3-a541-9c2b0b474349",
   "metadata": {},
   "source": [
    "## First let's get some topographic data\n",
    "\n",
    "In this example, we download SRTM elevation data from Microsoft's [Planetary Computer data catalog](https://planetarycomputer.microsoft.com/catalog) via the [STAC API](https://stacspec.org) (disclaimer: No API key is required here but this might change in the future, also STAC API and related tools are still pretty young).\n",
    "\n",
    "More examples here: https://github.com/microsoft/PlanetaryComputerExamples"
   ]
  },
  {
   "cell_type": "code",
   "execution_count": null,
   "id": "71b9689e-15dd-465b-900b-1d291357663b",
   "metadata": {},
   "outputs": [],
   "source": [
    "catalog = pystac_client.Client.open(\n",
    "    \"https://planetarycomputer.microsoft.com/api/stac/v1\",\n",
    "    modifier=planetary_computer.sign_inplace,\n",
    ")"
   ]
  },
  {
   "cell_type": "markdown",
   "id": "cd0c435a-a02f-4aa9-b056-3586ee339f99",
   "metadata": {},
   "source": [
    "Let's create an interactive map ([ipyleaflet](https://ipyleaflet.readthedocs.io)) on which we can delimit a ROI:"
   ]
  },
  {
   "cell_type": "code",
   "execution_count": null,
   "id": "e7ef65cd-2cbd-476d-8423-abd52ba36057",
   "metadata": {},
   "outputs": [],
   "source": [
    "m = ipyleaflet.Map(\n",
    "    basemap=ipyleaflet.basemaps.OpenTopoMap,\n",
    "    center=[27.9881, 86.9250],\n",
    "    zoom=11,\n",
    ")\n",
    "\n",
    "draw_control = ipyleaflet.DrawControl()\n",
    "m.add_control(draw_control)\n",
    " \n",
    "m"
   ]
  },
  {
   "cell_type": "markdown",
   "id": "108016c4-a901-4420-9dce-fc7b244edae8",
   "metadata": {},
   "source": [
    "Search the data catalog (NASA DEM collection) for items that interesect the ROI:"
   ]
  },
  {
   "cell_type": "code",
   "execution_count": null,
   "id": "85580ddc-3aa9-419b-b523-43ea86429f81",
   "metadata": {},
   "outputs": [],
   "source": [
    "roi = draw_control.last_draw['geometry']\n",
    "\n",
    "if roi is None:\n",
    "    # take map center point as default\n",
    "    roi = {'type': 'Point', 'coordinates': [m.center[1], m.center[0]]}\n",
    "\n",
    "search = catalog.search(collections=[\"nasadem\"], intersects=roi)\n",
    "items = search.item_collection()\n",
    "\n",
    "items"
   ]
  },
  {
   "cell_type": "markdown",
   "id": "7ccc4211-6406-4ee4-8e11-9f26df7b85e7",
   "metadata": {},
   "source": [
    "Each item has some assets that each provide a link to the actual data and metadata."
   ]
  },
  {
   "cell_type": "code",
   "execution_count": null,
   "id": "88db15b3-b082-4a28-b2bd-85859824bcbd",
   "metadata": {},
   "outputs": [],
   "source": [
    "if not items:\n",
    "    raise ValueError(\"no item found, please select another ROI\")\n",
    "\n",
    "item = items[0]\n",
    "item.assets"
   ]
  },
  {
   "cell_type": "markdown",
   "id": "da919068-67f9-4438-b793-43a335a45b26",
   "metadata": {},
   "source": [
    "Now we can use [rioxarray](https://corteva.github.io/rioxarray/) to directly load the data (Cloud Optimized GeoTIFF, COG) as a `xarray.DataArray`:"
   ]
  },
  {
   "cell_type": "code",
   "execution_count": null,
   "id": "5c01299e-93e0-4386-8977-a5cb1d2e1106",
   "metadata": {},
   "outputs": [],
   "source": [
    "dem_raw = rioxarray.open_rasterio(item.assets[\"elevation\"].href)\n",
    "\n",
    "dem_raw"
   ]
  },
  {
   "cell_type": "markdown",
   "id": "7bf649b6-7131-4420-8e19-a5899ef22a63",
   "metadata": {},
   "source": [
    "Let's clean-up and prepare the data, i.e.,\n",
    "\n",
    "- remove the \"band\" dimension and coordinate (not relevant for elevation data)\n",
    "- downsample the image a bit (the original image tile is quite large) with a 5x5 mean window\n",
    "- reproject the data from lat/lon to UTM and convert no-data values"
   ]
  },
  {
   "cell_type": "code",
   "execution_count": null,
   "id": "3fd042d2-f14a-4238-b696-8ae0e6ca9b3c",
   "metadata": {},
   "outputs": [],
   "source": [
    "utm_crs = dem_raw.rio.estimate_utm_crs()\n",
    "\n",
    "dem = (\n",
    "    dem_raw\n",
    "    .squeeze()\n",
    "    .drop(\"band\")[:-1, :-1]\n",
    "    .coarsen({\"y\": 5, \"x\": 5})\n",
    "    .mean()\n",
    "    .rio.reproject(utm_crs)\n",
    "    .where(lambda da: da > 0.)\n",
    ")\n",
    "\n",
    "dem"
   ]
  },
  {
   "cell_type": "markdown",
   "id": "c7b53839-8a82-4b17-9d66-4eb956acb48e",
   "metadata": {},
   "source": [
    "Finally, let's make a quick plot of the data:"
   ]
  },
  {
   "cell_type": "code",
   "execution_count": null,
   "id": "95e58cbb-e8f7-46ef-9c42-579ba79c31f8",
   "metadata": {},
   "outputs": [],
   "source": [
    "dem.plot.imshow(yincrease=True);"
   ]
  },
  {
   "cell_type": "markdown",
   "id": "9e16992e-3930-4cc2-a843-df021bfc14ac",
   "metadata": {},
   "source": [
    "Plotting elevation is nicer with some hillshading, here using [Xarray-spatial](https://xarray-spatial.org/) and [Datashader](https://datashader.org/).  "
   ]
  },
  {
   "cell_type": "code",
   "execution_count": null,
   "id": "b1cc31ef-7be8-4dd8-a11c-dad7addafc07",
   "metadata": {},
   "outputs": [],
   "source": [
    "shaded = xrspatial.hillshade(dem, azimuth=100, angle_altitude=50)\n",
    "stack(\n",
    "    shade(shaded, cmap=[\"white\", \"gray\"]),\n",
    "    shade(dem, cmap=Elevation, alpha=128, how=\"linear\", span=[500, 6000])\n",
    ")"
   ]
  },
  {
   "cell_type": "code",
   "execution_count": null,
   "id": "fc569c00-8500-4a81-b950-10c892e778df",
   "metadata": {},
   "outputs": [],
   "source": []
  },
  {
   "cell_type": "markdown",
   "id": "ae35f17b-3084-4970-ac41-874e2920db35",
   "metadata": {},
   "source": [
    "## Exercise 1: cross-sections\n",
    "\n",
    "Extract and plot one or several cross-sections along the `x` or `y` axis.\n",
    "\n",
    "Hints:\n",
    "\n",
    "- use Xarray's `sel()` or `isel()`\n",
    "- see Xarray's [plotting guide](http://xarray.pydata.org/en/stable/user-guide/plotting.html)"
   ]
  },
  {
   "cell_type": "code",
   "execution_count": null,
   "id": "3acb0b6d-234f-400a-a75c-07fddc825483",
   "metadata": {},
   "outputs": [],
   "source": [
    "dem.y"
   ]
  },
  {
   "cell_type": "code",
   "execution_count": null,
   "id": "dc376bed-61f0-41bf-a8aa-a09961dbd62e",
   "metadata": {},
   "outputs": [],
   "source": [
    "dem.sel(x=450e3, method='nearest').plot()"
   ]
  },
  {
   "cell_type": "code",
   "execution_count": null,
   "id": "a8d0e9ee-df64-4121-a0c5-554875b6143a",
   "metadata": {},
   "outputs": [],
   "source": [
    "dem.sel(y=3050e3, method='nearest').plot()"
   ]
  },
  {
   "cell_type": "markdown",
   "id": "2f952f19-8b81-42f5-a766-ed7d4e68a0f4",
   "metadata": {},
   "source": [
    "Create an interactive figure using `hvplot` where the position of the cross-section can be controlled with a slider"
   ]
  },
  {
   "cell_type": "code",
   "execution_count": null,
   "id": "102d87f8-5d37-4426-b2d5-1f9d802743b8",
   "metadata": {},
   "outputs": [],
   "source": [
    "dem.where(np.nan)"
   ]
  },
  {
   "cell_type": "code",
   "execution_count": null,
   "id": "35ab5112-cca7-4efd-8676-15f995448848",
   "metadata": {},
   "outputs": [],
   "source": [
    "dem.hvplot(groupby='x', frame_width=400, frame_height=400)"
   ]
  },
  {
   "cell_type": "markdown",
   "id": "e05f01b2-b8be-4897-8c1e-79bac151f159",
   "metadata": {},
   "source": [
    "Extract a topographic profile given along a custom polyline defined from (`x`, `y`) points. Bonus: Draw a polyline on the map above and get it's coordinates.\n",
    "\n",
    "Hints:\n",
    "\n",
    "- Use Xarray's [advanced indexing](http://xarray.pydata.org/en/stable/user-guide/indexing.html#more-advanced-indexing) (pointwise selection)"
   ]
  },
  {
   "cell_type": "code",
   "execution_count": null,
   "id": "1be2b5bb-ab27-49a8-8ca0-dfec89ab2f13",
   "metadata": {},
   "outputs": [],
   "source": [
    "xp = np.linspace(dem.x.min() + 300, dem.x.max() - 300, 50) + np.random.uniform(-300, 300, 50) \n",
    "yp = np.linspace(dem.y.min() + 300, dem.y.max() - 300, 50) + np.random.uniform(-300, 300, 50)"
   ]
  },
  {
   "cell_type": "code",
   "execution_count": null,
   "id": "bbc911c0-1960-4e2e-b8e6-97a7c0f90b92",
   "metadata": {},
   "outputs": [],
   "source": [
    "dem.sel(x=xr.DataArray(xp, dims='profile'), y=xr.DataArray(yp, dims='profile'), method='nearest').plot()\n",
    "dem.interp(x=xr.DataArray(xp, dims='profile'), y=xr.DataArray(yp, dims='profile'), method='linear').plot();"
   ]
  },
  {
   "cell_type": "code",
   "execution_count": null,
   "id": "967a8f43-cdbb-42c3-9227-2b626b5f4277",
   "metadata": {},
   "outputs": [],
   "source": [
    "xr.concat(\n",
    "    [\n",
    "     dem.interp(x=xr.DataArray(xp, dims='profile'), y=xr.DataArray(yp, dims='profile'), method='linear'),\n",
    "     dem.sel(x=xr.DataArray(xp, dims='profile'), y=xr.DataArray(yp, dims='profile'), method='nearest')\n",
    "    ],\n",
    "    dim='method'\n",
    ").assign_coords({'method':['linear','nearest']}).plot.line(x='profile')"
   ]
  },
  {
   "cell_type": "markdown",
   "id": "7478a657-b32a-411b-a3b8-73b317d19bd0",
   "metadata": {},
   "source": [
    "## Exercise 2: swath profiles\n",
    "\n",
    "Extract and plot the mean/median/min/max elevation along the `x` or `y` axis. Bonus: gather all statistics into a single `xarray.DataArray` object and plot all the profiles with a legend using Xarray plotting methods.\n",
    "\n",
    "Hints:\n",
    "\n",
    "- use Xarray's [aggregation methods](http://xarray.pydata.org/en/stable/user-guide/computation.html#aggregation)\n",
    "- See Xarray's [concatenate](http://xarray.pydata.org/en/stable/user-guide/combining.html#concatenate)"
   ]
  },
  {
   "cell_type": "code",
   "execution_count": null,
   "id": "0e865b16-6b3d-4d65-9071-d8e51745b1ce",
   "metadata": {},
   "outputs": [],
   "source": [
    "fig, ax = plt.subplots()\n",
    "plt.fill_between(dem.y, dem.min('x'), dem.max('x'), color='lightgrey')\n",
    "(xr.concat([dem.mean('x'), dem.min('x'), dem.max('x'), dem.median('x')], dim='Topography')\n",
    " .assign_coords({'Topography':['mean','min','max','median']})\n",
    " .plot.line(ax=ax, x='y'));\n"
   ]
  },
  {
   "cell_type": "markdown",
   "id": "88da708c-2c30-49ef-bdde-5bcb2badf6e3",
   "metadata": {},
   "source": [
    "## Exercise 3: Compute terrain derivatives\n",
    "\n",
    "Compute and plot terrain slope using the following formula:\n",
    "\n",
    "$$ s = \\arctan \\left( \\sqrt{\\frac{\\partial{z}}{\\partial{x}}^2 + \\frac{\\partial{z}}{\\partial{y}}^2} \\right) $$\n",
    "\n",
    "For simplicity, let's ignore the diagnonal DEM grid neighbors in the computation of the partial derivatives. Convert the values in degrees.\n",
    "\n",
    "Hints:\n",
    "\n",
    "- Look at Xarray's [differentiate](http://xarray.pydata.org/en/stable/generated/xarray.DataArray.differentiate.html#xarray.DataArray.differentiate)"
   ]
  },
  {
   "cell_type": "code",
   "execution_count": null,
   "id": "af2a6adb-deaa-4c5c-aaf3-7b6e0ab9e736",
   "metadata": {},
   "outputs": [],
   "source": [
    "(np.arctan(np.sqrt((dem.differentiate('x'))**2+(dem.differentiate('y'))**2))/np.pi*180).plot()\n",
    "plt.title('Slope (degrees)')"
   ]
  },
  {
   "cell_type": "markdown",
   "id": "aad6135b-cd18-4e3a-bbea-206562e7a780",
   "metadata": {},
   "source": [
    "## Exercise 4: Load DEM mosaic as a single DataArray\n",
    "\n",
    "Define a large ROI covering two or more STAC items, load the individual items and merge them as a single DataArray.\n",
    "\n",
    "Hints:\n",
    "\n",
    "- Use Xarray's [merge](https://docs.xarray.dev/en/stable/generated/xarray.merge.html)"
   ]
  },
  {
   "cell_type": "code",
   "execution_count": null,
   "id": "bd402079-72ed-492b-b096-4a2066c5151c",
   "metadata": {},
   "outputs": [],
   "source": []
  }
 ],
 "metadata": {
  "kernelspec": {
   "display_name": "Python 3 (ipykernel)",
   "language": "python",
   "name": "python3"
  },
  "language_info": {
   "codemirror_mode": {
    "name": "ipython",
    "version": 3
   },
   "file_extension": ".py",
   "mimetype": "text/x-python",
   "name": "python",
   "nbconvert_exporter": "python",
   "pygments_lexer": "ipython3",
   "version": "3.8.13"
  }
 },
 "nbformat": 4,
 "nbformat_minor": 5
}
