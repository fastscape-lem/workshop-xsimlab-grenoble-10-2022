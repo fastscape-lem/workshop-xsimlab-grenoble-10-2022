{
 "cells": [
  {
   "cell_type": "markdown",
   "metadata": {},
   "source": [
    "# A short introduction to Xarray-simlab\n",
    "\n",
    "[Xarray-simlab](https://xarray-simlab.readthedocs.io) is a both a framework for building (or assembling) models and a xarray extension for driving the model (simulations).\n",
    "\n",
    "In this notebook, we'll see how to import an existing xarray-simlab model, explore its components and run simulations. We'll use Fastscape (landscape evolution model) as an example (more info at https://fastscape.org/)"
   ]
  },
  {
   "cell_type": "markdown",
   "metadata": {},
   "source": [
    "## Environment setup"
   ]
  },
  {
   "cell_type": "code",
   "execution_count": null,
   "metadata": {},
   "outputs": [],
   "source": [
    "import matplotlib.pyplot as plt\n",
    "import numpy as np\n",
    "import xarray as xr\n",
    "import xsimlab as xs\n",
    "\n",
    "from dask.distributed import LocalCluster, Client\n",
    "\n",
    "import hvplot.xarray\n",
    "from ipyfastscape import TopoViz3d\n",
    "\n",
    "%load_ext xsimlab.ipython"
   ]
  },
  {
   "cell_type": "markdown",
   "metadata": {},
   "source": [
    "## Import and inspect an Xarray-simlab model\n",
    "\n",
    "Let's import `basic_model` from the `fastscape` package: "
   ]
  },
  {
   "cell_type": "code",
   "execution_count": null,
   "metadata": {},
   "outputs": [],
   "source": [
    "from fastscape.models import basic_model"
   ]
  },
  {
   "cell_type": "markdown",
   "metadata": {},
   "source": [
    "This model simulates the long-term evolution of topographic surface elevation (hereafter noted $h$) on a 2D regular grid. The local rate of elevation change, $\\partial h/\\partial t$, is determined by the balance between uplift (uniform in space and time) $U$ and erosion $E$.\n",
    "\n",
    "$$\\frac{\\partial h}{\\partial t} = U - E$$\n",
    "\n",
    "Total erosion $E$ is the combined effect of the erosion of (bedrock) river channels, noted $E_r$, and erosion- transport on hillslopes, noted $E_d$\n",
    "\n",
    "$$E = E_r + E_d$$\n",
    "\n",
    "Erosion of river channels is given by the stream power law:\n",
    "\n",
    "$$E_r = K_r A^m (\\nabla h)^n$$\n",
    "\n",
    "where $A$ is the drainage area and $K$, $m$ and $n$ are parameters.\n",
    "\n",
    "Erosion on hillslopes is given by a linear diffusion law:\n",
    "\n",
    "$$E_d = K_d \\nabla^2 h$$\n",
    "\n",
    "Here, `basic_model` is an [xsimlab.Model](https://xarray-simlab.readthedocs.io/en/latest/_api_generated/xsimlab.Model.html#xsimlab.Model) object, i.e., a collection of inter-dependent components (or \"processes\") that together form a computational model.  Just typing `basic_model` shows the ordered list of components as well as all model inputs (parameters), grouped by the component to which they belong:"
   ]
  },
  {
   "cell_type": "code",
   "execution_count": null,
   "metadata": {},
   "outputs": [],
   "source": [
    "basic_model"
   ]
  },
  {
   "cell_type": "markdown",
   "metadata": {},
   "source": [
    "To have a better picture of all processes (and inputs and/or variables) in the model, we can visualize it as a graph. Processes are in blue and inputs are in yellow. The order in the graph corresponds to the order in which the processes will be exectued during a simulation."
   ]
  },
  {
   "cell_type": "code",
   "execution_count": null,
   "metadata": {},
   "outputs": [],
   "source": [
    "basic_model.visualize(show_inputs=True)"
   ]
  },
  {
   "cell_type": "markdown",
   "metadata": {},
   "source": [
    "More information can be shown for each process in the model, e.g., for the grid component here below. We can see all the variables defined in that components (thus not only those that are inputs of ``basic_model``):"
   ]
  },
  {
   "cell_type": "code",
   "execution_count": null,
   "metadata": {},
   "outputs": [],
   "source": [
    "basic_model.grid"
   ]
  },
  {
   "cell_type": "markdown",
   "metadata": {},
   "source": [
    "Xarray-simlab also automatically generates documentation (docstrings) for each model component:"
   ]
  },
  {
   "cell_type": "code",
   "execution_count": null,
   "metadata": {},
   "outputs": [],
   "source": [
    "basic_model.topography?"
   ]
  },
  {
   "cell_type": "markdown",
   "metadata": {},
   "source": [
    "## Customize a model (using existing components)\n",
    "\n",
    "Xarray-simlab is a modular framework: models can be easily customized by adding, dropping or replacing processes.\n",
    "\n",
    "The `basic_model` imported above computes flow paths using a single flow direction algorithm. We can switch to a multiple flow direction algorithm by replacing the \"flow\" process with another process `MultiFlowRouter` available in `fastscape`:"
   ]
  },
  {
   "cell_type": "code",
   "execution_count": null,
   "metadata": {},
   "outputs": [],
   "source": [
    "from fastscape.processes import MultipleFlowRouter\n",
    "\n",
    "model = basic_model.update_processes({'flow': MultipleFlowRouter})"
   ]
  },
  {
   "cell_type": "markdown",
   "metadata": {},
   "source": [
    "Let's visualize this custom model:"
   ]
  },
  {
   "cell_type": "code",
   "execution_count": null,
   "metadata": {},
   "outputs": [],
   "source": [
    "# note the additional input for the \"flow\" process (multiple flow partition slope exponent)\n",
    "\n",
    "model.visualize(show_inputs=True)"
   ]
  },
  {
   "cell_type": "markdown",
   "metadata": {
    "tags": []
   },
   "source": [
    "## Run one simulation\n",
    "\n",
    "Let's create a simulation setup using the `model` object created above:"
   ]
  },
  {
   "cell_type": "code",
   "execution_count": null,
   "metadata": {},
   "outputs": [],
   "source": [
    "# %create_setup model -v -d\n",
    "import xsimlab as xs\n",
    "\n",
    "ds_in = xs.create_setup(\n",
    "    model=model,\n",
    "    clocks={\n",
    "        'tstep': np.linspace(0., 1e6, 101),   # time steps in years\n",
    "        'time': np.linspace(0., 1e6, 51),     # output snapshots every 2 steps \n",
    "    },\n",
    "    master_clock='tstep',\n",
    "    input_vars={\n",
    "        # nb. of grid nodes in (y, x)\n",
    "        'grid__shape': [201, 201],\n",
    "        # total grid length in (y, x)\n",
    "        'grid__length': [2e4, 2e4],\n",
    "        # node status at borders\n",
    "        'boundary__status': ['looped', 'looped', 'fixed_value', 'fixed_value'],\n",
    "        # uplift rate\n",
    "        'uplift__rate': 1e-3,\n",
    "        # random seed\n",
    "        'init_topography__seed': None,\n",
    "        # MFD partioner slope exponent\n",
    "        'flow__slope_exp': 1.0,\n",
    "        # bedrock channel incision coefficient\n",
    "        'spl__k_coef': 1e-4,\n",
    "        # drainage area exponent\n",
    "        'spl__area_exp': 0.4,\n",
    "        # slope exponent\n",
    "        'spl__slope_exp': 1,\n",
    "        # diffusivity (transport coefficient)\n",
    "        'diffusion__diffusivity': 1e-1,\n",
    "    },\n",
    "    output_vars={\n",
    "        'topography__elevation': 'time',\n",
    "        'drainage__area': 'time',\n",
    "        'erosion__rate': 'time'\n",
    "    }\n",
    ")\n"
   ]
  },
  {
   "cell_type": "markdown",
   "metadata": {},
   "source": [
    "The simulation setup is stored into a `xarray.Dataset` object"
   ]
  },
  {
   "cell_type": "code",
   "execution_count": null,
   "metadata": {},
   "outputs": [],
   "source": [
    "ds_in"
   ]
  },
  {
   "cell_type": "markdown",
   "metadata": {},
   "source": [
    "Let's run the model..."
   ]
  },
  {
   "cell_type": "code",
   "execution_count": null,
   "metadata": {},
   "outputs": [],
   "source": [
    "with xs.monitoring.ProgressBar():\n",
    "    ds_out = ds_in.xsimlab.run(model=model)"
   ]
  },
  {
   "cell_type": "markdown",
   "metadata": {},
   "source": [
    "The simulation outputs are stored in another `xarray.Dataset`"
   ]
  },
  {
   "cell_type": "code",
   "execution_count": null,
   "metadata": {},
   "outputs": [],
   "source": [
    "# note the output variables \"drainage__area\" and \"topography__elevation\" present in this dataset\n",
    "\n",
    "ds_out"
   ]
  },
  {
   "cell_type": "markdown",
   "metadata": {},
   "source": [
    "Let's visualize the results using an interactive widget (ipyfastscape):"
   ]
  },
  {
   "cell_type": "code",
   "execution_count": null,
   "metadata": {},
   "outputs": [],
   "source": [
    "app = TopoViz3d(ds_out, canvas_height=500, time_dim=\"time\")\n",
    "\n",
    "app.show()"
   ]
  },
  {
   "cell_type": "code",
   "execution_count": null,
   "metadata": {},
   "outputs": [],
   "source": [
    "app.widget.close()"
   ]
  },
  {
   "cell_type": "markdown",
   "metadata": {},
   "source": [
    "### Hands-on\n",
    "\n",
    "- Try extracting and plotting cross-sections of the topography at various time steps\n",
    "- Build an interactive plot of cross-sections (using `hvplot`)\n",
    "- Compute erosion rates from the elevation output snapshots and compute the spatial average"
   ]
  },
  {
   "cell_type": "code",
   "execution_count": null,
   "metadata": {},
   "outputs": [],
   "source": [
    "((ds_out.uplift__rate-ds_out.topography__elevation.differentiate('time'))\n",
    " .mean(('x','y'))\n",
    " .plot(label=r'$U-\\frac{\\partial h}{\\partial t}$'))\n",
    "ds_out.erosion__rate.mean(('x','y')).assign_attrs({'units':r'$m yr^{-1}$'}).plot(label=r'$\\dot \\epsilon$')\n",
    "plt.legend()"
   ]
  },
  {
   "cell_type": "code",
   "execution_count": null,
   "metadata": {},
   "outputs": [],
   "source": []
  },
  {
   "cell_type": "markdown",
   "metadata": {},
   "source": [
    "## Run simulation batches\n",
    "\n",
    "Xarray-simlab allows to define extra dimensions for the model input variables. Here we'll use this feature to explore the influence of the flow routing slope partition exponent the on modelled topography.\n",
    "\n",
    "Xarray-simlab leverages Xarray + Dask + Zarr so that simulations can be run in parallel and model outputs can be saved on disk (or any other storage supported by Zarr) while the simulation is running.\n",
    "\n",
    "Let's first create a dask local cluster:"
   ]
  },
  {
   "cell_type": "code",
   "execution_count": null,
   "metadata": {},
   "outputs": [],
   "source": [
    "# note fastscape is not thread-safe -> cannot run multiple simulations in parallel with threads\n",
    "# see also https://xarray-simlab.readthedocs.io/en/latest/run_parallel.html#multi-models-parallelism\n",
    "\n",
    "cluster = LocalCluster(threads_per_worker=1)\n",
    "client = Client(cluster)\n",
    "client"
   ]
  },
  {
   "cell_type": "markdown",
   "metadata": {},
   "source": [
    "Instead of re-creating a new simulation setup from scratch, we'll reuse the previous one and just update some input variables:"
   ]
  },
  {
   "cell_type": "code",
   "execution_count": null,
   "metadata": {},
   "outputs": [],
   "source": [
    "ds_in_batch = ds_in.xsimlab.update_vars(\n",
    "    model=model,\n",
    "    input_vars={\n",
    "        'flow__slope_exp': (\"flow__slope_exp\", np.arange(0., 4.))   # (dimension name, values) tuple\n",
    "    }\n",
    ")"
   ]
  },
  {
   "cell_type": "code",
   "execution_count": null,
   "metadata": {},
   "outputs": [],
   "source": [
    "# note the dimension for the flow partition slope exponent\n",
    "# since the dimension name matches the variable name, \"flow__slope_exp\"\n",
    "# is promoted as a coordinate\n",
    "\n",
    "ds_in_batch"
   ]
  },
  {
   "cell_type": "markdown",
   "metadata": {},
   "source": [
    "Let's run a batch of simulations:"
   ]
  },
  {
   "cell_type": "code",
   "execution_count": null,
   "metadata": {},
   "outputs": [],
   "source": [
    "ds_out_batch = ds_in_batch.xsimlab.run(\n",
    "    model=model,\n",
    "    batch_dim=\"flow__slope_exp\",  # dimension name used to pick input values for each simulation\n",
    "    store=\"flow_runs.zarr\",       # zarr (directory) store where to save the outputs\n",
    "    parallel=True,                # run the simulations in parallel with dask \n",
    "    scheduler=client,             # use the dask local cluster created above\n",
    ")"
   ]
  },
  {
   "cell_type": "code",
   "execution_count": null,
   "metadata": {},
   "outputs": [],
   "source": [
    "# note \"drainage__area\" and \"topographic__elevation\" which have 4 dimensions!\n",
    "\n",
    "ds_out_batch"
   ]
  },
  {
   "cell_type": "code",
   "execution_count": null,
   "metadata": {},
   "outputs": [],
   "source": [
    "app = TopoViz3d(ds_out_batch, canvas_height=500, time_dim=\"time\")\n",
    "\n",
    "app.show()"
   ]
  },
  {
   "cell_type": "code",
   "execution_count": null,
   "metadata": {},
   "outputs": [],
   "source": [
    "app.widget.close()"
   ]
  },
  {
   "cell_type": "markdown",
   "metadata": {},
   "source": [
    "### Hands-on\n",
    "\n",
    "- Create facet plots showing the topographic elevation for different values of \"flow__slope_exp\" (rows) and different time steps (cols). "
   ]
  },
  {
   "cell_type": "code",
   "execution_count": null,
   "metadata": {},
   "outputs": [],
   "source": [
    "np.log10(ds_out_batch.drainage__area).isel(time=[0,26,-1]).plot(row='flow__slope_exp', col='time', size=5, aspect=1.2);"
   ]
  },
  {
   "cell_type": "markdown",
   "metadata": {},
   "source": [
    "## Time-varying input values\n",
    "\n",
    "For model variables that are not \"static\", it is possible to provide input values with a time dimension (i.e., the dimension of the simulation main clock).\n",
    "\n",
    "For example, let's explore variable block uplift rates as model external forcing (sudden 2x decrease in the middle of the simulation):"
   ]
  },
  {
   "cell_type": "code",
   "execution_count": null,
   "metadata": {},
   "outputs": [],
   "source": [
    "# we can leverage the xarray `.where` function here\n",
    "\n",
    "u_t = ds_in.uplift__rate.where(ds_in.tstep < 5e5,\n",
    "                               ds_in.uplift__rate / 2)"
   ]
  },
  {
   "cell_type": "code",
   "execution_count": null,
   "metadata": {},
   "outputs": [],
   "source": [
    "u_t.plot();"
   ]
  },
  {
   "cell_type": "markdown",
   "metadata": {},
   "source": [
    "Let's run the simulation:"
   ]
  },
  {
   "cell_type": "code",
   "execution_count": null,
   "metadata": {},
   "outputs": [],
   "source": [
    "# note: it is possible to chain methods on xarray objects\n",
    "# like below to update the simulation setup then run the simulation\n",
    "\n",
    "in_vars = {'uplift__rate': u_t}\n",
    "\n",
    "with model, xs.monitoring.ProgressBar():\n",
    "    ds_out_ut = (\n",
    "        ds_in\n",
    "        .xsimlab.update_vars(input_vars=in_vars)\n",
    "        .xsimlab.run()\n",
    "    )"
   ]
  },
  {
   "cell_type": "code",
   "execution_count": null,
   "metadata": {},
   "outputs": [],
   "source": [
    "ds_out_ut"
   ]
  },
  {
   "cell_type": "markdown",
   "metadata": {},
   "source": [
    "### Hands-on\n",
    "\n",
    "- Show the influence of the sudden change of the uplift rate by plotting a time-series built from the model outputs."
   ]
  },
  {
   "cell_type": "code",
   "execution_count": null,
   "metadata": {},
   "outputs": [],
   "source": [
    "ds_out_ut.topography__elevation.mean(('x','y')).plot()"
   ]
  },
  {
   "cell_type": "markdown",
   "metadata": {},
   "source": [
    "## Further exercises"
   ]
  },
  {
   "cell_type": "markdown",
   "metadata": {},
   "source": [
    "### Time + space varying values"
   ]
  },
  {
   "cell_type": "markdown",
   "metadata": {},
   "source": [
    "The `uplift__rate` parameter in `model` also accepts values defined on a 2D grid, that we can combine with the time (steps) dimension."
   ]
  },
  {
   "cell_type": "code",
   "execution_count": null,
   "metadata": {},
   "outputs": [],
   "source": [
    "# note the allowed dimensions: () or ('y', 'x')\n",
    "# \"()\" means scalar value (empty tuple)\n",
    "\n",
    "model.uplift.rate?"
   ]
  },
  {
   "cell_type": "markdown",
   "metadata": {},
   "source": [
    "- Run a new simulation with space and time varying uplift rate"
   ]
  },
  {
   "cell_type": "markdown",
   "metadata": {},
   "source": [
    "### Batch + time + space varying values\n",
    "\n",
    "- What about running a batch of simulation with different overall magnitude for the time + space varying uplift rates? "
   ]
  },
  {
   "cell_type": "code",
   "execution_count": null,
   "metadata": {},
   "outputs": [],
   "source": []
  }
 ],
 "metadata": {
  "kernelspec": {
   "display_name": "Python 3 (ipykernel)",
   "language": "python",
   "name": "python3"
  },
  "language_info": {
   "codemirror_mode": {
    "name": "ipython",
    "version": 3
   },
   "file_extension": ".py",
   "mimetype": "text/x-python",
   "name": "python",
   "nbconvert_exporter": "python",
   "pygments_lexer": "ipython3",
   "version": "3.8.13"
  }
 },
 "nbformat": 4,
 "nbformat_minor": 4
}
