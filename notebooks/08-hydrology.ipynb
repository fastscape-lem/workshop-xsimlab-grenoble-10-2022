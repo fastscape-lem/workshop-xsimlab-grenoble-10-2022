{
 "cells": [
  {
   "cell_type": "code",
   "execution_count": null,
   "id": "6a78228e-d5ff-44a0-9cec-61cb479783a0",
   "metadata": {},
   "outputs": [],
   "source": [
    "import numpy as np\n",
    "import matplotlib.pyplot as plt"
   ]
  },
  {
   "cell_type": "markdown",
   "id": "dd1910e9-5e92-447a-9fb3-e918b7bb5723",
   "metadata": {},
   "source": [
    "We can add an additional process to compute the geometry of the water table assuming that it obeys the Dupuit-Forchheimer assumptions that flow is dominantly lateral and that discharge is proportional to the saturated aquifer thickness:\n",
    "$$\\frac{\\partial}{\\partial x}K(H(x)-z(x)+B(x))\\frac{\\partial H}{\\partial x}+P(x)=0 $$\n",
    "Numerically, as shown in Braun et al (2016), this can be solved in 1D using an $O(n)$, second-order accurate algorithm:\n",
    "$$\\frac{K}{2}(H_i-z_i+B_i+H_{i-1}-z_{i-1}+B_{i-1})\\frac{H_i-H_{i-1}}{\\Delta x }=F_i $$\n",
    "where:\n",
    "$$F_{i-1}=F_i+P_{i-1}\\Delta x$$"
   ]
  },
  {
   "cell_type": "code",
   "execution_count": null,
   "id": "b669d1fa-7abc-4b25-b032-033775a7062e",
   "metadata": {},
   "outputs": [],
   "source": [
    "import xsimlab as xs\n",
    "import xarray as xr\n",
    "%load_ext xsimlab.ipython"
   ]
  },
  {
   "cell_type": "code",
   "execution_count": null,
   "id": "6b09c814-bf36-414e-bc01-a3bbdedaf8db",
   "metadata": {},
   "outputs": [],
   "source": [
    "@xs.process\n",
    "class Topography:\n",
    "    elevation = xs.variable(dims='x', intent='inout',\n",
    "                      description='topography elevation',\n",
    "                      attrs={'units': 'm'})\n",
    "    dtopo = xs.group('dtopo')\n",
    "    \n",
    "    def run_step(self):\n",
    "        self.elevation = self.elevation + sum(self.dtopo)\n",
    "        self.elevation[-1] = self.elevation[-2]"
   ]
  },
  {
   "cell_type": "code",
   "execution_count": null,
   "id": "a7af9896-d434-4f51-8cb3-68b012feff40",
   "metadata": {},
   "outputs": [],
   "source": [
    "@xs.process\n",
    "class Erosion:\n",
    "    \n",
    "    kd = xs.variable(dims=[(),'x'],\n",
    "                     description='transport coefficient',\n",
    "                    attrs={'units': 'm^2/yr'})\n",
    "    surface = xs.foreign(Topography, 'elevation', intent='in')\n",
    "    L = xs.variable(description='length',\n",
    "                   attrs={'units': 'm'})\n",
    "    dx = xs.variable(intent='out',\n",
    "                    description='spatial step',\n",
    "                    attrs={'units': 'm'})\n",
    "    dtopo = xs.variable(dims='x', intent='out',\n",
    "                        description='erosional increment in topography',\n",
    "                        attrs={'untis': 'm'},\n",
    "                        groups='dtopo')\n",
    "    \n",
    "    def initialize(self):\n",
    "        self.dx = self.L/(len(self.surface) - 1)\n",
    "        self.dtopo = np.zeros_like(self.surface)\n",
    "        \n",
    "    @xs.runtime(args=(\"step_delta\"))\n",
    "    def run_step(self, dt):\n",
    "        kd_var = np.broadcast_to(self.kd, self.surface.shape).flatten()\n",
    "        self.dtopo[1:-1] = (dt/self.dx**2/2\n",
    "                           *((self.surface[:-2] - self.surface[1:-1])*(kd_var[:-2]+kd_var[1:-1])\n",
    "                            -(self.surface[1:-1] - self.surface[2:])*(kd_var[1:-1]+kd_var[2:])))\n",
    "        self.dtopo[0] = 0\n",
    "        self.dtopo[-1] = self.dtopo[-2]\n"
   ]
  },
  {
   "cell_type": "code",
   "execution_count": null,
   "id": "599219c5-5a5b-4041-adb8-b480b4cb9226",
   "metadata": {},
   "outputs": [],
   "source": [
    "@xs.process\n",
    "class Geom:\n",
    "    length = xs.variable(description='length',\n",
    "                        attrs={'units': 'm'})\n",
    "    slope = xs.variable(description='initial slope')\n",
    "    nx = xs.variable(description='spatial resolution')\n",
    "    L = xs.foreign(Erosion, 'L', intent='out')\n",
    "    z = xs.foreign(Topography, 'elevation', intent='out')\n",
    "    \n",
    "    def initialize(self):\n",
    "        self.L = self.length\n",
    "        self.z = np.linspace(0, self.length, self.nx)\n"
   ]
  },
  {
   "cell_type": "code",
   "execution_count": null,
   "id": "cf1b9d05-11b5-455f-9536-defd98b5e30c",
   "metadata": {},
   "outputs": [],
   "source": [
    "@xs.process\n",
    "class Uplift:\n",
    "    rate = xs.variable(dims=[(),'x'],\n",
    "                       description='uplift rate',\n",
    "                      attrs={'units': 'm/yr'})\n",
    "    dtopo = xs.variable(dims='x', intent='out',\n",
    "                        description='uplift increment in topography',\n",
    "                        attrs={'untis': 'm'},\n",
    "                       groups='dtopo')\n",
    "    nx = xs.foreign(Geom, 'nx')\n",
    "    \n",
    "    @xs.runtime(args=(\"step_delta\"))\n",
    "    def run_step(self, dt):\n",
    "        u_var = np.broadcast_to(self.rate, self.nx).flatten()\n",
    "        self.dtopo = dt*u_var\n",
    "        self.dtopo[0] = 0\n"
   ]
  },
  {
   "cell_type": "markdown",
   "id": "8dc7cf57-b83a-4d5b-869b-13f389ad151e",
   "metadata": {},
   "source": [
    "For this we add a process to integrate precipitation"
   ]
  },
  {
   "cell_type": "code",
   "execution_count": null,
   "id": "5b036e69-414f-409d-b9b8-13f212e84d62",
   "metadata": {},
   "outputs": [],
   "source": [
    "def integrate(x):\n",
    "    \"\"\"\n",
    "    integrate:\n",
    "    ---------\n",
    "\n",
    "    Function to integrate variable x by simple summation:\n",
    "    int_i = sum_(j = 1 to i) of x_j\n",
    "\n",
    "    in input:\n",
    "    x: array to integrate\n",
    "\n",
    "    in output:\n",
    "    integ: result of the integration\n",
    "\n",
    "    \"\"\"\n",
    "\n",
    "    integ = x.copy()\n",
    "    for i in range(len(integ) - 1, 0, -1):\n",
    "        integ[i - 1] = integ[i - 1] + integ[i]\n",
    "\n",
    "    return integ"
   ]
  },
  {
   "cell_type": "markdown",
   "id": "ea07490d-d41a-4946-8f3d-ce2f5da0e45c",
   "metadata": {
    "tags": []
   },
   "source": [
    "As well as another one to solve the hydraulic equation"
   ]
  },
  {
   "cell_type": "code",
   "execution_count": null,
   "id": "54027d4a-365f-4818-b058-2a231e2a2306",
   "metadata": {},
   "outputs": [],
   "source": [
    "def computeHydro(B, z, accum, dx, K):\n",
    "    \"\"\"\n",
    "    table:\n",
    "    -----\n",
    "\n",
    "    Function to compute the geometry of the water table\n",
    "    using the second-order accurate finite difference scheme\n",
    "    described in Braun et al (2015)\n",
    "\n",
    "    in input:\n",
    "    B: the thickness of the regolith\n",
    "    z: the surface topography\n",
    "    accum: cumulative infiltration rate\n",
    "    dx: distance between two nodes\n",
    "    K: hydraulic conductivity\n",
    "\n",
    "\n",
    "    in output:\n",
    "    H: water table height\n",
    "\n",
    "    \"\"\"\n",
    "\n",
    "    H = z.copy()\n",
    "    for i in range(1, len(H)):\n",
    "        b = -z[i] - z[i - 1] + B[i] + B[i - 1]\n",
    "        c = (z[i] + z[i - 1] - B[i] - B[i - 1] - H[i - 1]) * H[i - 1] - 2 * dx * accum[\n",
    "            i\n",
    "        ] / K\n",
    "        H[i] = (-b + np.sqrt(b ** 2 - 4 * c)) / 2\n",
    "        if H[i] > z[i]:\n",
    "            H[i] = z[i]\n",
    "        if H[i] < z[i] - B[i]:\n",
    "            H[i] = z[i] - B[i]\n",
    "    return H"
   ]
  },
  {
   "cell_type": "markdown",
   "id": "83a62f6f-b3e1-45c4-9683-9089ec05c59f",
   "metadata": {},
   "source": [
    "We now build a more complex model that has up to six processes"
   ]
  },
  {
   "cell_type": "code",
   "execution_count": null,
   "id": "ceac237f-6f86-4ccf-9a21-0f81a12e8917",
   "metadata": {},
   "outputs": [],
   "source": []
  },
  {
   "cell_type": "markdown",
   "id": "3fb320c3-0239-4aa3-a208-c7155cf0726d",
   "metadata": {},
   "source": [
    "And we can predict the geometry of the water table under an actively uplifting and eroding hill"
   ]
  },
  {
   "cell_type": "code",
   "execution_count": null,
   "id": "bed27e22-5254-46a7-b1fd-4db35b6af70f",
   "metadata": {},
   "outputs": [],
   "source": []
  }
 ],
 "metadata": {
  "kernelspec": {
   "display_name": "Python [conda env:xsimlab]",
   "language": "python",
   "name": "conda-env-xsimlab-py"
  },
  "language_info": {
   "codemirror_mode": {
    "name": "ipython",
    "version": 3
   },
   "file_extension": ".py",
   "mimetype": "text/x-python",
   "name": "python",
   "nbconvert_exporter": "python",
   "pygments_lexer": "ipython3",
   "version": "3.8.13"
  }
 },
 "nbformat": 4,
 "nbformat_minor": 5
}
