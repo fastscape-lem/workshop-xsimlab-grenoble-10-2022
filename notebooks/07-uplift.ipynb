{
 "cells": [
  {
   "cell_type": "code",
   "execution_count": null,
   "id": "6a78228e-d5ff-44a0-9cec-61cb479783a0",
   "metadata": {},
   "outputs": [],
   "source": [
    "import numpy as np\n",
    "import matplotlib.pyplot as plt"
   ]
  },
  {
   "cell_type": "markdown",
   "id": "470df91b-175e-4c1c-ab86-5edeb22aea1a",
   "metadata": {},
   "source": [
    "In this example, we will add another process, tectonic uplift, that transforms topography. However, remembering that only one process can transform a variable (ie, a variable can have an intent \"inout\" in only one process, we have to use a group variable corresponding to the increment in topographic change that can be contributed to by many processes (uplift, erosion in this case). It also opens the possibility to add other contributions to the group variable that would correspond to additional processes not yet defined."
   ]
  },
  {
   "cell_type": "code",
   "execution_count": null,
   "id": "b669d1fa-7abc-4b25-b032-033775a7062e",
   "metadata": {},
   "outputs": [],
   "source": [
    "import xsimlab as xs\n",
    "import xarray as xr\n",
    "%load_ext xsimlab.ipython"
   ]
  },
  {
   "cell_type": "markdown",
   "id": "8ccbbb25-c9f8-4664-9465-69951a74dcc8",
   "metadata": {},
   "source": [
    "For this we create a new process that simply add to the current topography the contribution from all processes affecting the topography"
   ]
  },
  {
   "cell_type": "markdown",
   "id": "d119a361-1d93-45c3-bb10-fb1d0dec9b63",
   "metadata": {},
   "source": [
    "We redefine our main process as the \"Erosion\" process that now contributes an increment in topography (not an updated topography) that is labeled as member of the \"dtopo\" group."
   ]
  },
  {
   "cell_type": "code",
   "execution_count": null,
   "id": "cc5370d4-7b77-4102-aea4-639bf9d69eed",
   "metadata": {},
   "outputs": [],
   "source": []
  },
  {
   "cell_type": "markdown",
   "id": "676fda85-54b9-4b53-b115-314d5a46642c",
   "metadata": {},
   "source": [
    "We also add a new process that contributed to the change in topography by uplift"
   ]
  },
  {
   "cell_type": "code",
   "execution_count": null,
   "id": "98f79f3e-8ce7-456a-b682-7ea75333f6d6",
   "metadata": {},
   "outputs": [],
   "source": []
  },
  {
   "cell_type": "markdown",
   "id": "4c0c2819-e2a4-425e-8578-f1e834679e6d",
   "metadata": {},
   "source": [
    "Our model now comprises three processes"
   ]
  },
  {
   "cell_type": "code",
   "execution_count": null,
   "id": "bed27e22-5254-46a7-b1fd-4db35b6af70f",
   "metadata": {},
   "outputs": [],
   "source": []
  }
 ],
 "metadata": {
  "kernelspec": {
   "display_name": "Python 3 (ipykernel)",
   "language": "python",
   "name": "python3"
  },
  "language_info": {
   "codemirror_mode": {
    "name": "ipython",
    "version": 3
   },
   "file_extension": ".py",
   "mimetype": "text/x-python",
   "name": "python",
   "nbconvert_exporter": "python",
   "pygments_lexer": "ipython3",
   "version": "3.8.13"
  }
 },
 "nbformat": 4,
 "nbformat_minor": 5
}
